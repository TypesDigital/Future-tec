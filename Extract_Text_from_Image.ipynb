{
  "nbformat": 4,
  "nbformat_minor": 0,
  "metadata": {
    "colab": {
      "provenance": [],
      "authorship_tag": "ABX9TyMxpAuFPOwojmJyDSC1EWHe",
      "include_colab_link": true
    },
    "kernelspec": {
      "name": "python3",
      "display_name": "Python 3"
    },
    "language_info": {
      "name": "python"
    }
  },
  "cells": [
    {
      "cell_type": "markdown",
      "metadata": {
        "id": "view-in-github",
        "colab_type": "text"
      },
      "source": [
        "<a href=\"https://colab.research.google.com/github/TypesDigital/Future-tec/blob/main/Extract_Text_from_Image.ipynb\" target=\"_parent\"><img src=\"https://colab.research.google.com/assets/colab-badge.svg\" alt=\"Open In Colab\"/></a>"
      ]
    },
    {
      "cell_type": "code",
      "execution_count": null,
      "metadata": {
        "colab": {
          "base_uri": "https://localhost:8080/"
        },
        "id": "jt7HVK6fchMP",
        "outputId": "97a9501b-8176-4e64-9c9f-d90de0a60c08"
      },
      "outputs": [
        {
          "output_type": "stream",
          "name": "stdout",
          "text": [
            "Reading package lists... Done\n",
            "Building dependency tree... Done\n",
            "Reading state information... Done\n",
            "The following additional packages will be installed:\n",
            "  tesseract-ocr-eng tesseract-ocr-osd\n",
            "The following NEW packages will be installed:\n",
            "  tesseract-ocr tesseract-ocr-eng tesseract-ocr-osd\n",
            "0 upgraded, 3 newly installed, 0 to remove and 24 not upgraded.\n",
            "Need to get 4,816 kB of archives.\n",
            "After this operation, 15.6 MB of additional disk space will be used.\n",
            "Get:1 http://archive.ubuntu.com/ubuntu jammy/universe amd64 tesseract-ocr-eng all 1:4.00~git30-7274cfa-1.1 [1,591 kB]\n",
            "Get:2 http://archive.ubuntu.com/ubuntu jammy/universe amd64 tesseract-ocr-osd all 1:4.00~git30-7274cfa-1.1 [2,990 kB]\n",
            "Get:3 http://archive.ubuntu.com/ubuntu jammy/universe amd64 tesseract-ocr amd64 4.1.1-2.1build1 [236 kB]\n",
            "Fetched 4,816 kB in 2s (1,936 kB/s)\n",
            "debconf: unable to initialize frontend: Dialog\n",
            "debconf: (No usable dialog-like program is installed, so the dialog based frontend cannot be used. at /usr/share/perl5/Debconf/FrontEnd/Dialog.pm line 78, <> line 3.)\n",
            "debconf: falling back to frontend: Readline\n",
            "debconf: unable to initialize frontend: Readline\n",
            "debconf: (This frontend requires a controlling tty.)\n",
            "debconf: falling back to frontend: Teletype\n",
            "dpkg-preconfigure: unable to re-open stdin: \n",
            "Selecting previously unselected package tesseract-ocr-eng.\n",
            "(Reading database ... 121658 files and directories currently installed.)\n",
            "Preparing to unpack .../tesseract-ocr-eng_1%3a4.00~git30-7274cfa-1.1_all.deb ...\n",
            "Unpacking tesseract-ocr-eng (1:4.00~git30-7274cfa-1.1) ...\n",
            "Selecting previously unselected package tesseract-ocr-osd.\n",
            "Preparing to unpack .../tesseract-ocr-osd_1%3a4.00~git30-7274cfa-1.1_all.deb ...\n",
            "Unpacking tesseract-ocr-osd (1:4.00~git30-7274cfa-1.1) ...\n",
            "Selecting previously unselected package tesseract-ocr.\n",
            "Preparing to unpack .../tesseract-ocr_4.1.1-2.1build1_amd64.deb ...\n",
            "Unpacking tesseract-ocr (4.1.1-2.1build1) ...\n",
            "Setting up tesseract-ocr-eng (1:4.00~git30-7274cfa-1.1) ...\n",
            "Setting up tesseract-ocr-osd (1:4.00~git30-7274cfa-1.1) ...\n",
            "Setting up tesseract-ocr (4.1.1-2.1build1) ...\n",
            "Processing triggers for man-db (2.10.2-1) ...\n",
            "Collecting pytesseract\n",
            "  Downloading pytesseract-0.3.10-py3-none-any.whl (14 kB)\n",
            "Requirement already satisfied: packaging>=21.3 in /usr/local/lib/python3.10/dist-packages (from pytesseract) (23.2)\n",
            "Requirement already satisfied: Pillow>=8.0.0 in /usr/local/lib/python3.10/dist-packages (from pytesseract) (9.4.0)\n",
            "Installing collected packages: pytesseract\n",
            "Successfully installed pytesseract-0.3.10\n",
            "Extracted Text:\n",
            "[Errno 2] No such file or directory: '/content/sample_image.png'\n"
          ]
        }
      ],
      "source": [
        "# Install Tesseract and the pytesseract library\n",
        "!sudo apt install tesseract-ocr\n",
        "!pip install pytesseract\n",
        "\n",
        "# Import necessary libraries\n",
        "from PIL import Image\n",
        "import pytesseract\n",
        "\n",
        "# Define a function to extract text from an image\n",
        "def extract_text_from_image(image_path):\n",
        "    try:\n",
        "        # Open the image file\n",
        "        img = Image.open(image_path)\n",
        "\n",
        "        # Use Tesseract to extract text\n",
        "        text = pytesseract.image_to_string(img)\n",
        "\n",
        "        return text\n",
        "    except Exception as e:\n",
        "        return str(e)\n",
        "\n",
        "# Example usage\n",
        "image_path = \"/content/sample_image.png\"  # Change this to the path of your image\n",
        "extracted_text = extract_text_from_image(image_path)\n",
        "\n",
        "print(\"Extracted Text:\")\n",
        "print(extracted_text)\n"
      ]
    },
    {
      "cell_type": "code",
      "source": [
        "# Example usage\n",
        "image_path = \"/content/happy new year.jpeg\"  # Change this to the path of your image\n",
        "extracted_text = extract_text_from_image(image_path)\n",
        "\n",
        "print(\"Extracted Text:\")\n",
        "print(extracted_text)"
      ],
      "metadata": {
        "colab": {
          "base_uri": "https://localhost:8080/"
        },
        "id": "lLnWQ9GtcmnA",
        "outputId": "3473fd40-e778-4e8b-850d-95c769332f48"
      },
      "execution_count": null,
      "outputs": [
        {
          "output_type": "stream",
          "name": "stdout",
          "text": [
            "Extracted Text:\n",
            "HAPPY NEW YEAR 2024 USING PYTHON\n",
            "\n",
            "import time\n",
            "import random\n",
            "import pyfiglet as pf\n",
            "from pyfiglet import Figlet\n",
            "from termcolor import colored\n",
            "text = \"Happy New Year 2024”\n",
            "color_list = ['red', ‘green’, ‘blue’, ‘yellow']\n",
            "data_list = []\n",
            "with open('texts.txt') as f:\n",
            "data_list = [line.strip() for line in f]\n",
            "happy_new_year_art = pf.figlet_format(text)\n",
            "for i in range(@, 1):\n",
            "if i % 2 == 0:\n",
            "= Figlet (font=random.choice(data_list))\n",
            "text_art = colored(f.renderText(text), random. choice(color_list))\n",
            "else:\n",
            "text_art = happy_new_year_art\n",
            "print(\"\\n\", text_art)\n",
            "\n",
            " \n",
            "\n",
            "#clcoding.com\n",
            "\n",
            " \n",
            "\n",
            " \n",
            "\n",
            "   \n",
            "\n",
            " \n",
            "\n",
            "/Pythonclcoding — @ /Pythoncoding © /cleoding\n",
            "\f\n"
          ]
        }
      ]
    },
    {
      "cell_type": "code",
      "source": [
        "from google.colab import drive\n",
        "drive.mount('/content/drive')"
      ],
      "metadata": {
        "id": "L55szEDKkRng"
      },
      "execution_count": null,
      "outputs": []
    },
    {
      "cell_type": "code",
      "source": [
        "# Example usage\n",
        "image_path = \"/content/META AI SD.jpeg\"  # Change this to the path of your image\n",
        "extracted_text = extract_text_from_image(image_path)\n",
        "\n",
        "print(\"Extracted Text:\")\n",
        "print(extracted_text)"
      ],
      "metadata": {
        "colab": {
          "base_uri": "https://localhost:8080/"
        },
        "id": "FvluzrKLc9nb",
        "outputId": "071ab50b-50e1-4433-d37a-bffb0f221a4f"
      },
      "execution_count": null,
      "outputs": [
        {
          "output_type": "stream",
          "name": "stdout",
          "text": [
            "Extracted Text:\n",
            "Meta\n",
            "\n",
            "Imagine with Meta Al\n",
            "\n",
            "Describe an image for Meta Al to generate.\n",
            "\n",
            "cotton candy clouds over the beach\n",
            "\n",
            " \n",
            "\f\n"
          ]
        }
      ]
    },
    {
      "cell_type": "code",
      "source": [],
      "metadata": {
        "id": "BMxHz-LSddKS"
      },
      "execution_count": null,
      "outputs": []
    }
  ]
}